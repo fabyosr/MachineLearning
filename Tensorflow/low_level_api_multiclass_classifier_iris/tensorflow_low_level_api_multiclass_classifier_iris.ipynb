{
 "cells": [
  {
   "cell_type": "markdown",
   "metadata": {
    "heading_collapsed": true
   },
   "source": [
    "# 0 - IMPORTS"
   ]
  },
  {
   "cell_type": "code",
   "execution_count": 55,
   "metadata": {
    "ExecuteTime": {
     "end_time": "2020-12-08T15:31:12.094521Z",
     "start_time": "2020-12-08T15:31:12.018195Z"
    },
    "hidden": true
   },
   "outputs": [],
   "source": [
    "import tensorflow as tf\n",
    "import numpy as np\n",
    "import warnings\n",
    "\n",
    "from sklearn.preprocessing import StandardScaler, OneHotEncoder\n",
    "from sklearn.compose import ColumnTransformer\n",
    "from sklearn.model_selection import train_test_split\n",
    "from sklearn.metrics import accuracy_score\n",
    "\n",
    "warnings.filterwarnings('ignore')"
   ]
  },
  {
   "cell_type": "markdown",
   "metadata": {
    "heading_collapsed": true
   },
   "source": [
    "# 1 - LOAD DATASET"
   ]
  },
  {
   "cell_type": "code",
   "execution_count": 3,
   "metadata": {
    "ExecuteTime": {
     "end_time": "2020-12-08T13:51:01.920338Z",
     "start_time": "2020-12-08T13:51:01.910339Z"
    },
    "hidden": true
   },
   "outputs": [],
   "source": [
    "from sklearn import datasets\n",
    "iris = datasets.load_iris()\n",
    "\n",
    "X = iris.data\n",
    "y = iris.target"
   ]
  },
  {
   "cell_type": "markdown",
   "metadata": {
    "heading_collapsed": true
   },
   "source": [
    "# 2 - DATA TRANSFORMATION"
   ]
  },
  {
   "cell_type": "code",
   "execution_count": 11,
   "metadata": {
    "ExecuteTime": {
     "end_time": "2020-12-08T13:58:17.941151Z",
     "start_time": "2020-12-08T13:58:17.936164Z"
    },
    "hidden": true
   },
   "outputs": [],
   "source": [
    "scaler_x = StandardScaler()\n",
    "X = scaler_x.fit_transform(X)"
   ]
  },
  {
   "cell_type": "code",
   "execution_count": 23,
   "metadata": {
    "ExecuteTime": {
     "end_time": "2020-12-08T14:08:09.226755Z",
     "start_time": "2020-12-08T14:08:09.213793Z"
    },
    "hidden": true
   },
   "outputs": [
    {
     "data": {
      "text/plain": [
       "array([[1., 0., 0.],\n",
       "       [1., 0., 0.],\n",
       "       [1., 0., 0.],\n",
       "       [1., 0., 0.],\n",
       "       [1., 0., 0.],\n",
       "       [1., 0., 0.],\n",
       "       [1., 0., 0.],\n",
       "       [1., 0., 0.],\n",
       "       [1., 0., 0.],\n",
       "       [1., 0., 0.],\n",
       "       [1., 0., 0.],\n",
       "       [1., 0., 0.],\n",
       "       [1., 0., 0.],\n",
       "       [1., 0., 0.],\n",
       "       [1., 0., 0.],\n",
       "       [1., 0., 0.],\n",
       "       [1., 0., 0.],\n",
       "       [1., 0., 0.],\n",
       "       [1., 0., 0.],\n",
       "       [1., 0., 0.],\n",
       "       [1., 0., 0.],\n",
       "       [1., 0., 0.],\n",
       "       [1., 0., 0.],\n",
       "       [1., 0., 0.],\n",
       "       [1., 0., 0.],\n",
       "       [1., 0., 0.],\n",
       "       [1., 0., 0.],\n",
       "       [1., 0., 0.],\n",
       "       [1., 0., 0.],\n",
       "       [1., 0., 0.],\n",
       "       [1., 0., 0.],\n",
       "       [1., 0., 0.],\n",
       "       [1., 0., 0.],\n",
       "       [1., 0., 0.],\n",
       "       [1., 0., 0.],\n",
       "       [1., 0., 0.],\n",
       "       [1., 0., 0.],\n",
       "       [1., 0., 0.],\n",
       "       [1., 0., 0.],\n",
       "       [1., 0., 0.],\n",
       "       [1., 0., 0.],\n",
       "       [1., 0., 0.],\n",
       "       [1., 0., 0.],\n",
       "       [1., 0., 0.],\n",
       "       [1., 0., 0.],\n",
       "       [1., 0., 0.],\n",
       "       [1., 0., 0.],\n",
       "       [1., 0., 0.],\n",
       "       [1., 0., 0.],\n",
       "       [1., 0., 0.],\n",
       "       [0., 1., 0.],\n",
       "       [0., 1., 0.],\n",
       "       [0., 1., 0.],\n",
       "       [0., 1., 0.],\n",
       "       [0., 1., 0.],\n",
       "       [0., 1., 0.],\n",
       "       [0., 1., 0.],\n",
       "       [0., 1., 0.],\n",
       "       [0., 1., 0.],\n",
       "       [0., 1., 0.],\n",
       "       [0., 1., 0.],\n",
       "       [0., 1., 0.],\n",
       "       [0., 1., 0.],\n",
       "       [0., 1., 0.],\n",
       "       [0., 1., 0.],\n",
       "       [0., 1., 0.],\n",
       "       [0., 1., 0.],\n",
       "       [0., 1., 0.],\n",
       "       [0., 1., 0.],\n",
       "       [0., 1., 0.],\n",
       "       [0., 1., 0.],\n",
       "       [0., 1., 0.],\n",
       "       [0., 1., 0.],\n",
       "       [0., 1., 0.],\n",
       "       [0., 1., 0.],\n",
       "       [0., 1., 0.],\n",
       "       [0., 1., 0.],\n",
       "       [0., 1., 0.],\n",
       "       [0., 1., 0.],\n",
       "       [0., 1., 0.],\n",
       "       [0., 1., 0.],\n",
       "       [0., 1., 0.],\n",
       "       [0., 1., 0.],\n",
       "       [0., 1., 0.],\n",
       "       [0., 1., 0.],\n",
       "       [0., 1., 0.],\n",
       "       [0., 1., 0.],\n",
       "       [0., 1., 0.],\n",
       "       [0., 1., 0.],\n",
       "       [0., 1., 0.],\n",
       "       [0., 1., 0.],\n",
       "       [0., 1., 0.],\n",
       "       [0., 1., 0.],\n",
       "       [0., 1., 0.],\n",
       "       [0., 1., 0.],\n",
       "       [0., 1., 0.],\n",
       "       [0., 1., 0.],\n",
       "       [0., 1., 0.],\n",
       "       [0., 1., 0.],\n",
       "       [0., 1., 0.],\n",
       "       [0., 0., 1.],\n",
       "       [0., 0., 1.],\n",
       "       [0., 0., 1.],\n",
       "       [0., 0., 1.],\n",
       "       [0., 0., 1.],\n",
       "       [0., 0., 1.],\n",
       "       [0., 0., 1.],\n",
       "       [0., 0., 1.],\n",
       "       [0., 0., 1.],\n",
       "       [0., 0., 1.],\n",
       "       [0., 0., 1.],\n",
       "       [0., 0., 1.],\n",
       "       [0., 0., 1.],\n",
       "       [0., 0., 1.],\n",
       "       [0., 0., 1.],\n",
       "       [0., 0., 1.],\n",
       "       [0., 0., 1.],\n",
       "       [0., 0., 1.],\n",
       "       [0., 0., 1.],\n",
       "       [0., 0., 1.],\n",
       "       [0., 0., 1.],\n",
       "       [0., 0., 1.],\n",
       "       [0., 0., 1.],\n",
       "       [0., 0., 1.],\n",
       "       [0., 0., 1.],\n",
       "       [0., 0., 1.],\n",
       "       [0., 0., 1.],\n",
       "       [0., 0., 1.],\n",
       "       [0., 0., 1.],\n",
       "       [0., 0., 1.],\n",
       "       [0., 0., 1.],\n",
       "       [0., 0., 1.],\n",
       "       [0., 0., 1.],\n",
       "       [0., 0., 1.],\n",
       "       [0., 0., 1.],\n",
       "       [0., 0., 1.],\n",
       "       [0., 0., 1.],\n",
       "       [0., 0., 1.],\n",
       "       [0., 0., 1.],\n",
       "       [0., 0., 1.],\n",
       "       [0., 0., 1.],\n",
       "       [0., 0., 1.],\n",
       "       [0., 0., 1.],\n",
       "       [0., 0., 1.],\n",
       "       [0., 0., 1.],\n",
       "       [0., 0., 1.],\n",
       "       [0., 0., 1.],\n",
       "       [0., 0., 1.],\n",
       "       [0., 0., 1.],\n",
       "       [0., 0., 1.]])"
      ]
     },
     "execution_count": 23,
     "metadata": {},
     "output_type": "execute_result"
    }
   ],
   "source": [
    "# reshape target variable to matrix format \"N lines x 1 column\" \n",
    "y = y.reshape(-1, 1)\n",
    "\n",
    "# apply one hot encoder to target variable\n",
    "ct = ColumnTransformer(\n",
    "    transformers=[\n",
    "        (\"Country\",        # Just a name\n",
    "         OneHotEncoder(), # The transformer class\n",
    "         [0]            # The column(s) to be applied on.\n",
    "         )\n",
    "    ], remainder='passthrough'\n",
    ")\n",
    "\n",
    "y = ct.fit_transform(y)\n",
    "y"
   ]
  },
  {
   "cell_type": "markdown",
   "metadata": {
    "heading_collapsed": true
   },
   "source": [
    "# 3 - CREATE TRAIN & TEST DATASET"
   ]
  },
  {
   "cell_type": "code",
   "execution_count": 26,
   "metadata": {
    "ExecuteTime": {
     "end_time": "2020-12-08T14:11:03.769378Z",
     "start_time": "2020-12-08T14:11:03.750463Z"
    },
    "hidden": true
   },
   "outputs": [],
   "source": [
    "X_train, X_test, y_train, y_test = train_test_split(X, y, test_size = 0.3)"
   ]
  },
  {
   "cell_type": "code",
   "execution_count": 27,
   "metadata": {
    "ExecuteTime": {
     "end_time": "2020-12-08T14:11:05.432165Z",
     "start_time": "2020-12-08T14:11:05.426187Z"
    },
    "hidden": true
   },
   "outputs": [
    {
     "data": {
      "text/plain": [
       "(105, 4)"
      ]
     },
     "execution_count": 27,
     "metadata": {},
     "output_type": "execute_result"
    }
   ],
   "source": [
    "X_train.shape"
   ]
  },
  {
   "cell_type": "code",
   "execution_count": 28,
   "metadata": {
    "ExecuteTime": {
     "end_time": "2020-12-08T14:11:12.048091Z",
     "start_time": "2020-12-08T14:11:12.043074Z"
    },
    "hidden": true
   },
   "outputs": [
    {
     "data": {
      "text/plain": [
       "(45, 4)"
      ]
     },
     "execution_count": 28,
     "metadata": {},
     "output_type": "execute_result"
    }
   ],
   "source": [
    "X_test.shape"
   ]
  },
  {
   "cell_type": "markdown",
   "metadata": {
    "heading_collapsed": true
   },
   "source": [
    "# 4 - CREATE TENSORFLOW MODEL"
   ]
  },
  {
   "cell_type": "markdown",
   "metadata": {
    "hidden": true
   },
   "source": [
    "![x_and_y](img/neural_network.png)"
   ]
  },
  {
   "cell_type": "markdown",
   "metadata": {
    "heading_collapsed": true,
    "hidden": true
   },
   "source": [
    "## 4.1 Create input layer"
   ]
  },
  {
   "cell_type": "code",
   "execution_count": 30,
   "metadata": {
    "ExecuteTime": {
     "end_time": "2020-12-08T14:16:30.637940Z",
     "start_time": "2020-12-08T14:16:30.632953Z"
    },
    "hidden": true
   },
   "outputs": [
    {
     "name": "stdout",
     "output_type": "stream",
     "text": [
      "input_layer contains 4 neurons.\n"
     ]
    }
   ],
   "source": [
    "input_layer = X.shape[1]\n",
    "print('input_layer contains {} neurons.'.format(input_layer))"
   ]
  },
  {
   "cell_type": "markdown",
   "metadata": {
    "heading_collapsed": true,
    "hidden": true
   },
   "source": [
    "## 4.2 Create hidden layer"
   ]
  },
  {
   "cell_type": "code",
   "execution_count": 31,
   "metadata": {
    "ExecuteTime": {
     "end_time": "2020-12-08T14:16:45.595612Z",
     "start_time": "2020-12-08T14:16:45.591655Z"
    },
    "hidden": true
   },
   "outputs": [
    {
     "name": "stdout",
     "output_type": "stream",
     "text": [
      "hidden_layer contains 4 neurons.\n"
     ]
    }
   ],
   "source": [
    "hidden_layer = int(np.ceil((X.shape[1] + y.shape[1]) / 2))\n",
    "print('hidden_layer contains {} neurons.'.format(hidden_layer))"
   ]
  },
  {
   "cell_type": "markdown",
   "metadata": {
    "heading_collapsed": true,
    "hidden": true
   },
   "source": [
    "## 4.3 Create output layer"
   ]
  },
  {
   "cell_type": "code",
   "execution_count": 32,
   "metadata": {
    "ExecuteTime": {
     "end_time": "2020-12-08T14:17:06.287509Z",
     "start_time": "2020-12-08T14:17:06.280556Z"
    },
    "hidden": true
   },
   "outputs": [
    {
     "name": "stdout",
     "output_type": "stream",
     "text": [
      "hidden_layer contains 3 neurons.\n"
     ]
    }
   ],
   "source": [
    "output_layer = y.shape[1]\n",
    "print('hidden_layer contains {} neurons.'.format(output_layer))"
   ]
  },
  {
   "cell_type": "markdown",
   "metadata": {
    "heading_collapsed": true,
    "hidden": true
   },
   "source": [
    "## 4.4 Create Weights Tensor Variables"
   ]
  },
  {
   "cell_type": "code",
   "execution_count": 39,
   "metadata": {
    "ExecuteTime": {
     "end_time": "2020-12-08T14:45:05.520005Z",
     "start_time": "2020-12-08T14:45:05.477129Z"
    },
    "hidden": true
   },
   "outputs": [],
   "source": [
    "W = {'hidden': tf.Variable(tf.random_normal([input_layer, hidden_layer])),\n",
    "     'output': tf.Variable(tf.random_normal([hidden_layer, output_layer]))}"
   ]
  },
  {
   "cell_type": "markdown",
   "metadata": {
    "hidden": true
   },
   "source": [
    "## 4.5 Create Bias Tensor Variables "
   ]
  },
  {
   "cell_type": "code",
   "execution_count": 40,
   "metadata": {
    "ExecuteTime": {
     "end_time": "2020-12-08T14:45:07.317914Z",
     "start_time": "2020-12-08T14:45:07.286001Z"
    },
    "hidden": true
   },
   "outputs": [],
   "source": [
    "b = {'hidden': tf.Variable(tf.random_normal([hidden_layer])),\n",
    "     'output': tf.Variable(tf.random_normal([output_layer]))}"
   ]
  },
  {
   "cell_type": "markdown",
   "metadata": {
    "hidden": true
   },
   "source": [
    "## 4.6 Create PlaceHolders Tensor Variables "
   ]
  },
  {
   "cell_type": "code",
   "execution_count": 36,
   "metadata": {
    "ExecuteTime": {
     "end_time": "2020-12-08T14:44:21.626920Z",
     "start_time": "2020-12-08T14:44:21.617944Z"
    },
    "hidden": true
   },
   "outputs": [],
   "source": [
    "xph = tf.placeholder('float', [None, input_layer])\n",
    "yph = tf.placeholder('float', [None, output_layer])"
   ]
  },
  {
   "cell_type": "markdown",
   "metadata": {
    "hidden": true
   },
   "source": [
    "## 4.7 Create Tensorflow Model"
   ]
  },
  {
   "cell_type": "code",
   "execution_count": 37,
   "metadata": {
    "ExecuteTime": {
     "end_time": "2020-12-08T14:44:28.599904Z",
     "start_time": "2020-12-08T14:44:28.593920Z"
    },
    "hidden": true
   },
   "outputs": [],
   "source": [
    "# define multilayer perceptron function\n",
    "def mlp(x, W, bias):\n",
    "    input_layer_to_hidden_layer = tf.add(tf.matmul(x, W['hidden']), bias['hidden'])\n",
    "    hidden_layer_activation     = tf.nn.relu(input_layer_to_hidden_layer)\n",
    "    output_layer                = tf.add(tf.matmul(hidden_layer_activation, W['output']), b['output'])\n",
    "    return output_layer"
   ]
  },
  {
   "cell_type": "code",
   "execution_count": 43,
   "metadata": {
    "ExecuteTime": {
     "end_time": "2020-12-08T15:06:41.177779Z",
     "start_time": "2020-12-08T15:06:40.914529Z"
    },
    "hidden": true
   },
   "outputs": [],
   "source": [
    "model = mlp(xph, W, b)"
   ]
  },
  {
   "cell_type": "markdown",
   "metadata": {
    "hidden": true
   },
   "source": [
    "## 4.8 Create Model Optimizer"
   ]
  },
  {
   "cell_type": "code",
   "execution_count": 45,
   "metadata": {
    "ExecuteTime": {
     "end_time": "2020-12-08T15:06:54.215175Z",
     "start_time": "2020-12-08T15:06:52.764341Z"
    },
    "hidden": true
   },
   "outputs": [],
   "source": [
    "model_error     = tf.reduce_mean(tf.nn.softmax_cross_entropy_with_logits_v2(logits = model, labels = yph))\n",
    "model_optimizer = tf.train.AdamOptimizer(learning_rate = 0.0001).minimize(model_error)"
   ]
  },
  {
   "cell_type": "markdown",
   "metadata": {
    "heading_collapsed": true
   },
   "source": [
    "# 5 - TRAINING MODEL"
   ]
  },
  {
   "cell_type": "markdown",
   "metadata": {
    "hidden": true
   },
   "source": [
    "## 5.1 - Define Batch Structure"
   ]
  },
  {
   "cell_type": "code",
   "execution_count": 46,
   "metadata": {
    "ExecuteTime": {
     "end_time": "2020-12-08T15:13:06.401740Z",
     "start_time": "2020-12-08T15:13:06.375371Z"
    },
    "hidden": true
   },
   "outputs": [
    {
     "name": "stdout",
     "output_type": "stream",
     "text": [
      "We have 13 cicles with 8 records each.\n"
     ]
    }
   ],
   "source": [
    "batch_size  = 8 # 8 records to train and optmize model\n",
    "batch_cycle = int(len(X_train) / batch_size) # number of cicles to train all records\n",
    "print( 'We have {} cicles with {} records each.'.format(batch_cycle, batch_size) )"
   ]
  },
  {
   "cell_type": "code",
   "execution_count": 33,
   "metadata": {
    "hidden": true
   },
   "outputs": [
    {
     "data": {
      "text/plain": [
       "[array([[-0.29484182, -0.8191665 ,  0.25096731,  0.13322594],\n",
       "        [-0.41600969, -1.51337539,  0.02350449, -0.12972   ],\n",
       "        [ 1.2803405 ,  0.33784833,  1.10395287,  1.44795564],\n",
       "        [ 1.03800476,  0.10644536,  0.36469871,  0.26469891],\n",
       "        [ 1.03800476,  0.10644536,  0.53529583,  0.39617188],\n",
       "        [-0.7795133 ,  0.80065426, -1.3412724 , -1.31297673],\n",
       "        [-1.02184904, -1.74477836, -0.26082403, -0.26119297],\n",
       "        [-1.50652052,  1.26346019, -1.56873522, -1.31297673],\n",
       "        [-0.05250608, -0.8191665 ,  0.76275864,  0.92206376]]),\n",
       " array([[ 0.4321654 , -0.58776353,  0.59216153,  0.79059079],\n",
       "        [-0.90068117,  1.72626612, -1.2844067 , -1.18150376],\n",
       "        [ 1.15917263,  0.33784833,  1.21768427,  1.44795564],\n",
       "        [ 0.31099753, -1.05056946,  1.04708716,  0.26469891],\n",
       "        [-0.7795133 ,  1.03205722, -1.2844067 , -1.31297673],\n",
       "        [-0.05250608, -1.05056946,  0.1372359 ,  0.00175297],\n",
       "        [-0.17367395, -0.58776353,  0.42156442,  0.13322594],\n",
       "        [-1.02184904, -0.1249576 , -1.227541  , -1.31297673]]),\n",
       " array([[-0.90068117,  1.72626612, -1.227541  , -1.31297673],\n",
       "        [-0.41600969,  2.65187798, -1.3412724 , -1.31297673],\n",
       "        [-0.17367395,  1.72626612, -1.17067529, -1.18150376],\n",
       "        [-0.53717756,  0.80065426, -1.17067529, -1.31297673],\n",
       "        [ 1.64384411,  0.33784833,  1.27454998,  0.79059079],\n",
       "        [-0.53717756,  1.49486315, -1.2844067 , -1.31297673],\n",
       "        [ 0.67450115,  0.10644536,  0.99022146,  0.79059079],\n",
       "        [ 2.4920192 ,  1.72626612,  1.50201279,  1.05353673]]),\n",
       " array([[-1.14301691, -1.51337539, -0.26082403, -0.26119297],\n",
       "        [ 1.03800476,  0.10644536,  1.04708716,  1.57942861],\n",
       "        [ 0.79566902, -0.58776353,  0.47843012,  0.39617188],\n",
       "        [ 0.06866179,  0.33784833,  0.59216153,  0.79059079],\n",
       "        [ 0.55333328, -1.28197243,  0.64902723,  0.39617188],\n",
       "        [-1.02184904,  0.33784833, -1.45500381, -1.31297673],\n",
       "        [-0.53717756, -0.1249576 ,  0.42156442,  0.39617188],\n",
       "        [-1.14301691,  0.10644536, -1.2844067 , -1.4444497 ]]),\n",
       " array([[-1.26418478,  0.80065426, -1.05694388, -1.31297673],\n",
       "        [ 1.88617985, -0.58776353,  1.33141568,  0.92206376],\n",
       "        [ 0.55333328,  0.80065426,  1.04708716,  1.57942861],\n",
       "        [ 0.55333328, -0.35636057,  1.04708716,  0.79059079],\n",
       "        [-1.02184904,  0.80065426, -1.2844067 , -1.31297673],\n",
       "        [-0.17367395, -1.28197243,  0.70589294,  1.05353673],\n",
       "        [-1.26418478, -0.1249576 , -1.3412724 , -1.4444497 ],\n",
       "        [ 2.24968346,  1.72626612,  1.67260991,  1.31648267]]),\n",
       " array([[ 0.91683689, -0.35636057,  0.47843012,  0.13322594],\n",
       "        [ 0.18982966, -0.8191665 ,  0.76275864,  0.52764485],\n",
       "        [ 1.76501198, -0.35636057,  1.44514709,  0.79059079],\n",
       "        [-1.02184904,  0.80065426, -1.227541  , -1.05003079],\n",
       "        [ 0.31099753, -0.35636057,  0.53529583,  0.26469891],\n",
       "        [ 0.55333328, -0.8191665 ,  0.64902723,  0.79059079],\n",
       "        [-0.90068117,  1.49486315, -1.2844067 , -1.05003079],\n",
       "        [ 0.67450115,  0.33784833,  0.87649005,  1.44795564]]),\n",
       " array([[ 1.03800476, -0.1249576 ,  0.81962435,  1.44795564],\n",
       "        [ 0.18982966, -0.1249576 ,  0.59216153,  0.79059079],\n",
       "        [-0.90068117,  1.03205722, -1.3412724 , -1.31297673],\n",
       "        [-0.53717756,  1.95766909, -1.17067529, -1.05003079],\n",
       "        [ 0.67450115, -0.35636057,  0.30783301,  0.13322594],\n",
       "        [-0.17367395,  3.11468391, -1.2844067 , -1.05003079],\n",
       "        [ 2.24968346, -0.1249576 ,  1.33141568,  1.44795564],\n",
       "        [ 0.91683689, -0.1249576 ,  0.36469871,  0.26469891]]),\n",
       " array([[-1.14301691, -1.28197243,  0.42156442,  0.65911782],\n",
       "        [-1.26418478,  0.10644536, -1.227541  , -1.31297673],\n",
       "        [-0.90068117,  1.72626612, -1.05694388, -1.05003079],\n",
       "        [-0.41600969,  1.03205722, -1.39813811, -1.31297673],\n",
       "        [ 0.67450115, -0.58776353,  1.04708716,  1.1850097 ],\n",
       "        [ 1.52267624, -0.1249576 ,  1.21768427,  1.1850097 ],\n",
       "        [-1.14301691, -0.1249576 , -1.3412724 , -1.31297673],\n",
       "        [-1.87002413, -0.1249576 , -1.51186952, -1.4444497 ]]),\n",
       " array([[ 0.31099753, -0.1249576 ,  0.64902723,  0.79059079],\n",
       "        [ 0.67450115, -0.58776353,  1.04708716,  1.31648267],\n",
       "        [ 1.03800476, -0.1249576 ,  0.70589294,  0.65911782],\n",
       "        [ 1.2803405 ,  0.10644536,  0.93335575,  1.1850097 ],\n",
       "        [-1.02184904,  1.03205722, -1.227541  , -0.78708485],\n",
       "        [-1.02184904,  0.56925129, -1.3412724 , -1.31297673],\n",
       "        [ 1.03800476,  0.56925129,  1.10395287,  1.71090158],\n",
       "        [-0.05250608, -0.8191665 ,  0.76275864,  0.92206376]]),\n",
       " array([[-0.41600969, -1.05056946,  0.36469871,  0.00175297],\n",
       "        [-0.29484182, -0.58776353,  0.64902723,  1.05353673],\n",
       "        [ 0.55333328, -1.74477836,  0.36469871,  0.13322594],\n",
       "        [ 1.15917263, -0.1249576 ,  0.99022146,  1.1850097 ],\n",
       "        [ 0.55333328, -1.28197243,  0.70589294,  0.92206376],\n",
       "        [ 1.2803405 ,  0.10644536,  0.76275864,  1.44795564],\n",
       "        [ 0.4321654 , -0.35636057,  0.30783301,  0.13322594],\n",
       "        [-0.29484182, -0.1249576 ,  0.42156442,  0.39617188]]),\n",
       " array([[ 3.10997534e-01, -5.87763531e-01,  5.35295827e-01,\n",
       "          1.75297293e-03],\n",
       "        [-5.25060772e-02, -8.19166497e-01,  8.03701950e-02,\n",
       "          1.75297293e-03],\n",
       "        [-9.00681170e-01,  8.00654259e-01, -1.28440670e+00,\n",
       "         -1.31297673e+00],\n",
       "        [-1.38535265e+00,  3.37848329e-01, -1.22754100e+00,\n",
       "         -1.31297673e+00],\n",
       "        [ 3.10997534e-01, -5.87763531e-01,  1.37235899e-01,\n",
       "          1.33225943e-01],\n",
       "        [-7.79513300e-01,  2.42047502e+00, -1.28440670e+00,\n",
       "         -1.44444970e+00],\n",
       "        [-1.50652052e+00,  3.37848329e-01, -1.34127240e+00,\n",
       "         -1.31297673e+00],\n",
       "        [-1.73673948e-01, -5.87763531e-01,  1.94101603e-01,\n",
       "          1.33225943e-01]]),\n",
       " array([[ 0.06866179, -0.1249576 ,  0.76275864,  0.79059079],\n",
       "        [ 0.55333328, -0.58776353,  0.76275864,  0.39617188],\n",
       "        [ 0.79566902, -0.1249576 ,  0.99022146,  0.79059079],\n",
       "        [ 1.03800476,  0.56925129,  1.10395287,  1.1850097 ],\n",
       "        [-0.53717756,  1.95766909, -1.39813811, -1.05003079],\n",
       "        [-1.14301691,  0.10644536, -1.2844067 , -1.4444497 ],\n",
       "        [-1.38535265,  0.33784833, -1.39813811, -1.31297673],\n",
       "        [-0.90068117,  0.56925129, -1.17067529, -0.91855782]]),\n",
       " array([[ 0.79566902, -0.1249576 ,  0.81962435,  1.05353673],\n",
       "        [ 0.67450115, -0.8191665 ,  0.87649005,  0.92206376],\n",
       "        [ 0.55333328,  0.56925129,  1.27454998,  1.71090158],\n",
       "        [-0.29484182, -0.35636057, -0.09022692,  0.13322594],\n",
       "        [-0.17367395, -1.05056946, -0.14709262, -0.26119297],\n",
       "        [ 0.18982966, -1.97618132,  0.70589294,  0.39617188],\n",
       "        [-0.41600969, -1.28197243,  0.1372359 ,  0.13322594],\n",
       "        [ 1.64384411,  1.26346019,  1.33141568,  1.71090158]])]"
      ]
     },
     "execution_count": 33,
     "metadata": {},
     "output_type": "execute_result"
    }
   ],
   "source": [
    "# create array of batch with predict variables\n",
    "X_batches = np.array_split(X_train, batch_cycle)\n",
    "X_batches"
   ]
  },
  {
   "cell_type": "markdown",
   "metadata": {
    "hidden": true
   },
   "source": [
    "## 5.2 - Model Training"
   ]
  },
  {
   "cell_type": "code",
   "execution_count": 60,
   "metadata": {
    "ExecuteTime": {
     "end_time": "2020-12-08T21:29:42.737670Z",
     "start_time": "2020-12-08T21:29:08.234047Z"
    },
    "hidden": true
   },
   "outputs": [
    {
     "name": "stdout",
     "output_type": "stream",
     "text": [
      "Epoch: 1 error: 1.5941788095694318\n",
      "Epoch: 501 error: 0.5234812715878854\n",
      "Epoch: 1001 error: 0.22008495433972433\n",
      "Epoch: 1501 error: 0.1038204706632174\n",
      "Epoch: 2001 error: 0.06434985794700109\n",
      "Epoch: 2501 error: 0.05062771130066652\n",
      "Epoch: 3001 error: 0.04367676828629695\n",
      "Epoch: 3501 error: 0.03942242205644456\n",
      "Epoch: 4001 error: 0.036492079111317605\n",
      "Epoch: 4501 error: 0.034304259918057\n"
     ]
    }
   ],
   "source": [
    "with tf.Session() as sess:\n",
    "    sess.run(tf.global_variables_initializer())\n",
    "    for epoch in range(5000):\n",
    "        mean_error = 0.0\n",
    "        batch_cycle = int(len(X_train) / batch_size)\n",
    "        X_batches = np.array_split(X_train, batch_cycle)\n",
    "        y_batches = np.array_split(y_train, batch_cycle)\n",
    "        for i in range(batch_cycle):\n",
    "            X_batch, y_batch = X_batches[i], y_batches[i]\n",
    "            _, cost = sess.run([model_optimizer, model_error], feed_dict = {xph: X_batch, yph: y_batch})\n",
    "            mean_error += cost / batch_cycle\n",
    "        if epoch % 500 == 0:\n",
    "            print('Epoch: ' + str((epoch + 1)) + ' error: ' + str(mean_error))\n",
    "    W_final, b_final = sess.run([W, b])"
   ]
  },
  {
   "cell_type": "markdown",
   "metadata": {
    "hidden": true
   },
   "source": [
    "## 5.3 - Final Weights"
   ]
  },
  {
   "cell_type": "code",
   "execution_count": 61,
   "metadata": {
    "ExecuteTime": {
     "end_time": "2020-12-08T21:29:54.319072Z",
     "start_time": "2020-12-08T21:29:53.890480Z"
    },
    "hidden": true
   },
   "outputs": [
    {
     "data": {
      "text/plain": [
       "{'hidden': array([[-1.2923219 ,  0.29243767, -0.4963156 , -1.015388  ],\n",
       "        [-0.3444296 ,  0.16575554, -0.408272  ,  1.0258651 ],\n",
       "        [-0.3726473 , -0.57454437,  3.1076303 , -2.9574142 ],\n",
       "        [ 1.3198701 , -0.7447929 ,  1.1177372 , -1.3508388 ]],\n",
       "       dtype=float32),\n",
       " 'output': array([[-0.10608529,  0.93869287,  0.84095085],\n",
       "        [-2.0976825 ,  1.5011766 , -2.6750572 ],\n",
       "        [-3.1631365 , -0.09710413,  3.282309  ],\n",
       "        [ 3.5655735 , -0.9623636 , -2.94165   ]], dtype=float32)}"
      ]
     },
     "execution_count": 61,
     "metadata": {},
     "output_type": "execute_result"
    }
   ],
   "source": [
    "W_final"
   ]
  },
  {
   "cell_type": "code",
   "execution_count": 62,
   "metadata": {
    "ExecuteTime": {
     "end_time": "2020-12-08T21:29:54.530077Z",
     "start_time": "2020-12-08T21:29:54.500625Z"
    },
    "hidden": true
   },
   "outputs": [
    {
     "data": {
      "text/plain": [
       "{'hidden': array([ 1.4578539 ,  2.2436147 , -0.82143253,  0.03312217], dtype=float32),\n",
       " 'output': array([-2.7112691 , -0.60244083, -0.08208413], dtype=float32)}"
      ]
     },
     "execution_count": 62,
     "metadata": {},
     "output_type": "execute_result"
    }
   ],
   "source": [
    "b_final"
   ]
  },
  {
   "cell_type": "markdown",
   "metadata": {
    "heading_collapsed": true
   },
   "source": [
    "# 6 - PREDICTIONS"
   ]
  },
  {
   "cell_type": "code",
   "execution_count": 63,
   "metadata": {
    "ExecuteTime": {
     "end_time": "2020-12-08T21:29:56.982079Z",
     "start_time": "2020-12-08T21:29:55.822408Z"
    },
    "hidden": true
   },
   "outputs": [],
   "source": [
    "# predictions\n",
    "model_predictions = mlp(xph, W_final, b_final)\n",
    "with tf.Session() as sess:\n",
    "    sess.run(tf.global_variables_initializer())\n",
    "    r1 = sess.run(model_predictions, feed_dict = {xph: X_test})\n",
    "    r2 = sess.run(tf.nn.softmax(r1))\n",
    "    r3 = sess.run(tf.argmax(r2, 1))"
   ]
  },
  {
   "cell_type": "markdown",
   "metadata": {
    "hidden": true
   },
   "source": [
    "## 6.1 - Output Layer Results"
   ]
  },
  {
   "cell_type": "code",
   "execution_count": 64,
   "metadata": {
    "ExecuteTime": {
     "end_time": "2020-12-08T21:29:57.954547Z",
     "start_time": "2020-12-08T21:29:57.713696Z"
    },
    "hidden": true
   },
   "outputs": [
    {
     "data": {
      "text/plain": [
       "array([[-12.991252  ,   0.69306797,  10.6043215 ],\n",
       "       [ 21.84841   ,  -1.7801383 , -33.691284  ],\n",
       "       [ -5.8798614 ,   2.0134401 ,  -2.442431  ],\n",
       "       [ 22.791592  ,  -1.9917789 , -34.758163  ],\n",
       "       [ -5.588908  ,   3.7103179 ,  -0.04260123],\n",
       "       [ 19.453487  ,  -0.56365734, -29.351967  ],\n",
       "       [ -5.8762603 ,   3.5091035 ,   0.9477972 ],\n",
       "       [-10.328619  ,   2.8474247 ,   8.992704  ],\n",
       "       [ -9.229098  ,   2.6666365 ,   5.471111  ],\n",
       "       [-11.2662325 ,   1.4946244 ,   7.992957  ],\n",
       "       [ -6.141271  ,   3.6850145 ,   1.7955183 ],\n",
       "       [-11.84668   ,   1.2218566 ,   5.452527  ],\n",
       "       [ 19.434114  ,  -0.21691436, -28.460035  ],\n",
       "       [ -3.7111812 ,   4.2032647 ,  -5.0556984 ],\n",
       "       [ -4.3649135 ,   2.7894187 ,  -3.397544  ],\n",
       "       [ -3.1699004 ,   3.4970105 ,  -4.726263  ],\n",
       "       [ -8.028805  ,   2.5892947 ,   2.964099  ],\n",
       "       [ 19.694609  ,  -1.7622857 , -32.184864  ],\n",
       "       [-10.059749  ,   1.9522116 ,   7.9607344 ],\n",
       "       [ -3.053021  ,   4.234349  ,  -3.6482673 ],\n",
       "       [-12.868207  ,   0.6226192 ,   8.272417  ],\n",
       "       [-14.372802  ,   1.5947838 ,  15.201455  ],\n",
       "       [ 17.932096  ,  -0.421583  , -28.51706   ],\n",
       "       [-10.415689  ,   1.320267  ,   3.7987866 ],\n",
       "       [ 22.27386   ,  -1.0430043 , -31.614305  ],\n",
       "       [ 20.243248  ,  -1.1548104 , -31.107323  ],\n",
       "       [ 20.733093  ,  -0.55418557, -29.887466  ],\n",
       "       [ 20.134842  ,  -1.3240886 , -31.760992  ],\n",
       "       [ -3.7746286 ,   3.1582491 ,  -4.199316  ],\n",
       "       [-15.721483  ,   0.241216  ,  12.143724  ],\n",
       "       [ 19.282646  ,  -1.1738515 , -31.264988  ],\n",
       "       [-12.064091  ,   1.6015966 ,  10.971988  ],\n",
       "       [-11.493814  ,   2.8475327 ,  12.971929  ],\n",
       "       [ -8.550991  ,   2.1932607 ,   4.5308313 ],\n",
       "       [ -5.168961  ,   2.3614616 ,  -2.8933039 ],\n",
       "       [ 20.581627  ,  -1.5111225 , -32.692417  ],\n",
       "       [-14.068553  ,   0.5823515 ,   9.528581  ],\n",
       "       [ -0.5174017 ,   4.388813  ,  -5.2980437 ],\n",
       "       [ 19.314842  ,  -1.2421062 , -31.693554  ],\n",
       "       [ 17.8783    ,  -1.5999951 , -31.818672  ],\n",
       "       [-13.126297  ,   0.29815966,   9.565802  ],\n",
       "       [ -9.08113   ,   1.8543353 ,   5.986488  ],\n",
       "       [ -2.8773842 ,   4.962709  ,  -2.457923  ],\n",
       "       [ -5.9231963 ,   2.2098856 ,  -2.1274753 ],\n",
       "       [ 17.772118  ,  -0.17586201, -27.850233  ]], dtype=float32)"
      ]
     },
     "execution_count": 64,
     "metadata": {},
     "output_type": "execute_result"
    }
   ],
   "source": [
    "r1"
   ]
  },
  {
   "cell_type": "markdown",
   "metadata": {
    "hidden": true
   },
   "source": [
    "## 6.2 - Softmax Output Layer"
   ]
  },
  {
   "cell_type": "code",
   "execution_count": 65,
   "metadata": {
    "ExecuteTime": {
     "end_time": "2020-12-08T21:29:59.110057Z",
     "start_time": "2020-12-08T21:29:59.019304Z"
    },
    "hidden": true
   },
   "outputs": [
    {
     "data": {
      "text/plain": [
       "array([[5.65654329e-11, 4.96107241e-05, 9.99950409e-01],\n",
       "       [1.00000000e+00, 5.47333637e-11, 7.57559250e-25],\n",
       "       [3.68815672e-04, 9.88158524e-01, 1.14727207e-02],\n",
       "       [1.00000000e+00, 1.72472054e-11, 1.01498338e-25],\n",
       "       [8.93907127e-05, 9.77000713e-01, 2.29098797e-02],\n",
       "       [1.00000000e+00, 2.02611616e-09, 6.36884290e-22],\n",
       "       [7.79213951e-05, 9.28257167e-01, 7.16649890e-02],\n",
       "       [4.05439327e-09, 2.13899068e-03, 9.97860968e-01],\n",
       "       [3.89272628e-07, 5.70828468e-02, 9.42916751e-01],\n",
       "       [4.31704583e-09, 1.50368304e-03, 9.98496294e-01],\n",
       "       [4.69188089e-05, 8.68657291e-01, 1.31295756e-01],\n",
       "       [3.02538083e-08, 1.43341795e-02, 9.85665739e-01],\n",
       "       [1.00000000e+00, 2.92190627e-09, 1.58429129e-21],\n",
       "       [3.65258078e-04, 9.99539614e-01, 9.52102346e-05],\n",
       "       [7.79260066e-04, 9.97170508e-01, 2.05024495e-03],\n",
       "       [1.27036555e-03, 9.98461723e-01, 2.67922500e-04],\n",
       "       [9.96813924e-06, 4.07376617e-01, 5.92613459e-01],\n",
       "       [1.00000000e+00, 4.80163742e-10, 2.94463916e-23],\n",
       "       [1.48846144e-08, 2.45168991e-03, 9.97548282e-01],\n",
       "       [6.83399732e-04, 9.98939693e-01, 3.76844866e-04],\n",
       "       [6.58470722e-10, 4.75913781e-04, 9.99524117e-01],\n",
       "       [1.43239533e-13, 1.23224538e-06, 9.99998808e-01],\n",
       "       [1.00000000e+00, 1.06929665e-08, 6.72027621e-21],\n",
       "       [6.19092191e-07, 7.73777738e-02, 9.22621667e-01],\n",
       "       [1.00000000e+00, 7.47504489e-11, 3.95062527e-24],\n",
       "       [1.00000000e+00, 5.09262299e-10, 4.99724356e-23],\n",
       "       [1.00000000e+00, 5.68921243e-10, 1.03697968e-22],\n",
       "       [1.00000000e+00, 4.79186635e-10, 2.89684239e-23],\n",
       "       [9.73620336e-04, 9.98389721e-01, 6.36722601e-04],\n",
       "       [7.91208841e-13, 6.77334492e-06, 9.99993205e-01],\n",
       "       [1.00000000e+00, 1.30573830e-09, 1.11542774e-22],\n",
       "       [9.89739263e-11, 8.52028170e-05, 9.99914765e-01],\n",
       "       [2.36943607e-11, 4.00879253e-05, 9.99959946e-01],\n",
       "       [1.89933996e-06, 8.80586430e-02, 9.11939442e-01],\n",
       "       [5.33439277e-04, 9.94273841e-01, 5.19266538e-03],\n",
       "       [1.00000000e+00, 2.54238408e-10, 7.30090452e-24],\n",
       "       [5.64726980e-11, 1.30210377e-04, 9.99869823e-01],\n",
       "       [7.34563079e-03, 9.92592752e-01, 6.16342950e-05],\n",
       "       [1.00000000e+00, 1.18094867e-09, 7.03614892e-23],\n",
       "       [1.00000000e+00, 3.47283580e-09, 2.61143580e-22],\n",
       "       [1.39606549e-10, 9.44220010e-05, 9.99905586e-01],\n",
       "       [2.81385979e-07, 1.57948136e-02, 9.84204948e-01],\n",
       "       [3.93242139e-04, 9.99008596e-01, 5.98177081e-04],\n",
       "       [2.89788994e-04, 9.86811697e-01, 1.28985951e-02],\n",
       "       [1.00000000e+00, 1.60432290e-08, 1.53625744e-20]], dtype=float32)"
      ]
     },
     "execution_count": 65,
     "metadata": {},
     "output_type": "execute_result"
    }
   ],
   "source": [
    "r2"
   ]
  },
  {
   "cell_type": "markdown",
   "metadata": {
    "hidden": true
   },
   "source": [
    "## 6.3 - Argmax Output Layer"
   ]
  },
  {
   "cell_type": "code",
   "execution_count": 66,
   "metadata": {
    "ExecuteTime": {
     "end_time": "2020-12-08T21:30:01.163758Z",
     "start_time": "2020-12-08T21:30:00.826817Z"
    },
    "hidden": true
   },
   "outputs": [
    {
     "data": {
      "text/plain": [
       "array([2, 0, 1, 0, 1, 0, 1, 2, 2, 2, 1, 2, 0, 1, 1, 1, 2, 0, 2, 1, 2, 2,\n",
       "       0, 2, 0, 0, 0, 0, 1, 2, 0, 2, 2, 2, 1, 0, 2, 1, 0, 0, 2, 2, 1, 1,\n",
       "       0], dtype=int64)"
      ]
     },
     "execution_count": 66,
     "metadata": {},
     "output_type": "execute_result"
    }
   ],
   "source": [
    "r3"
   ]
  },
  {
   "cell_type": "markdown",
   "metadata": {
    "hidden": true
   },
   "source": [
    "## 6.4 - Accuracy Score"
   ]
  },
  {
   "cell_type": "code",
   "execution_count": 67,
   "metadata": {
    "ExecuteTime": {
     "end_time": "2020-12-08T21:30:02.026186Z",
     "start_time": "2020-12-08T21:30:02.021198Z"
    },
    "hidden": true
   },
   "outputs": [
    {
     "data": {
      "text/plain": [
       "array([2, 0, 1, 0, 1, 0, 1, 2, 1, 2, 1, 2, 0, 1, 1, 1, 1, 0, 2, 1, 2, 2,\n",
       "       0, 2, 0, 0, 0, 0, 1, 2, 0, 2, 2, 2, 1, 0, 2, 1, 0, 0, 2, 2, 1, 1,\n",
       "       0], dtype=int64)"
      ]
     },
     "execution_count": 67,
     "metadata": {},
     "output_type": "execute_result"
    }
   ],
   "source": [
    "y_test2 = np.argmax(y_test, 1)\n",
    "y_test2"
   ]
  },
  {
   "cell_type": "code",
   "execution_count": 68,
   "metadata": {
    "ExecuteTime": {
     "end_time": "2020-12-08T21:30:06.138957Z",
     "start_time": "2020-12-08T21:30:05.940864Z"
    },
    "hidden": true
   },
   "outputs": [
    {
     "data": {
      "text/plain": [
       "0.9555555555555556"
      ]
     },
     "execution_count": 68,
     "metadata": {},
     "output_type": "execute_result"
    }
   ],
   "source": [
    "model_accuracy_score = accuracy_score(y_test2, r3)\n",
    "model_accuracy_score"
   ]
  }
 ],
 "metadata": {
  "kernelspec": {
   "display_name": "Python 3",
   "language": "python",
   "name": "python3"
  },
  "language_info": {
   "codemirror_mode": {
    "name": "ipython",
    "version": 3
   },
   "file_extension": ".py",
   "mimetype": "text/x-python",
   "name": "python",
   "nbconvert_exporter": "python",
   "pygments_lexer": "ipython3",
   "version": "3.7.9"
  }
 },
 "nbformat": 4,
 "nbformat_minor": 2
}
